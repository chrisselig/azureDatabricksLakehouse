{
 "cells": [
  {
   "cell_type": "markdown",
   "metadata": {},
   "source": [
    "# Exploratory Data Analysis - Stations"
   ]
  },
  {
   "cell_type": "code",
   "execution_count": 1,
   "metadata": {},
   "outputs": [],
   "source": [
    "# Import libraries\n",
    "import pandas as pd\n",
    "import psycopg2\n",
    "from psycopg2.extensions import ISOLATION_LEVEL_AUTOCOMMIT\n",
    "import configparser"
   ]
  },
  {
   "cell_type": "code",
   "execution_count": 2,
   "metadata": {},
   "outputs": [],
   "source": [
    "parser = configparser.ConfigParser()\n",
    "parser.read('../bikeshareDW_cred.conf')\n",
    "host = parser.get(\"postgres_creds\",\"host\")\n",
    "user = parser.get(\"postgres_creds\",\"user\")\n",
    "password = parser.get(\"postgres_creds\",\"password\")"
   ]
  },
  {
   "cell_type": "code",
   "execution_count": 3,
   "metadata": {},
   "outputs": [
    {
     "name": "stdout",
     "output_type": "stream",
     "text": [
      "Connection established\n"
     ]
    }
   ],
   "source": [
    "sslmode = \"require\"\n",
    "dbname = \"udacityproject\"\n",
    "conn_string = \"host={0} user={1} dbname={2} password={3} sslmode={4}\".format(host, user, dbname, password, sslmode)\n",
    "conn = psycopg2.connect(conn_string)\n",
    "conn.set_isolation_level(ISOLATION_LEVEL_AUTOCOMMIT);\n",
    "print(\"Connection established\")\n",
    "\n",
    "cursor = conn.cursor()"
   ]
  },
  {
   "cell_type": "markdown",
   "metadata": {},
   "source": [
    "### Row Counts"
   ]
  },
  {
   "cell_type": "code",
   "execution_count": 5,
   "metadata": {},
   "outputs": [
    {
     "name": "stdout",
     "output_type": "stream",
     "text": [
      "Row count:  838\n"
     ]
    }
   ],
   "source": [
    "rowCount = cursor.execute(\"SELECT COUNT(*) FROM station;\")\n",
    "rowCount = cursor.fetchone()[0]\n",
    "\n",
    "print(\"Row count: \", rowCount)"
   ]
  },
  {
   "cell_type": "markdown",
   "metadata": {},
   "source": [
    "### Look for missing values"
   ]
  },
  {
   "cell_type": "code",
   "execution_count": 6,
   "metadata": {},
   "outputs": [
    {
     "name": "stdout",
     "output_type": "stream",
     "text": [
      "Station name null values:  [(0,)]\n",
      "Latitude null values:  [(0,)]\n",
      "Longitude null values:  [(0,)]\n"
     ]
    }
   ],
   "source": [
    "nameNulls = cursor.execute(\"SELECT COUNT(*) FROM station WHERE name IS NULL\")\n",
    "nameNulls = cursor.fetchall()\n",
    "print(\"Station name null values: \",nameNulls)\n",
    "\n",
    "latNulls = cursor.execute(\"SELECT COUNT(*) FROM station WHERE latitude IS NULL\")\n",
    "latNulls = cursor.fetchall()\n",
    "print(\"Latitude null values: \",latNulls)\n",
    "\n",
    "longNulls = cursor.execute(\"SELECT COUNT(*) FROM station WHERE longitude IS NULL\")\n",
    "longNulls = cursor.fetchall()\n",
    "print(\"Longitude null values: \",longNulls)"
   ]
  },
  {
   "cell_type": "code",
   "execution_count": 7,
   "metadata": {},
   "outputs": [],
   "source": [
    "# Disconnect\n",
    "conn.commit()\n",
    "cursor.close()\n",
    "conn.close()"
   ]
  }
 ],
 "metadata": {
  "kernelspec": {
   "display_name": "bikeshareDW",
   "language": "python",
   "name": "python3"
  },
  "language_info": {
   "codemirror_mode": {
    "name": "ipython",
    "version": 3
   },
   "file_extension": ".py",
   "mimetype": "text/x-python",
   "name": "python",
   "nbconvert_exporter": "python",
   "pygments_lexer": "ipython3",
   "version": "3.9.12"
  },
  "orig_nbformat": 4
 },
 "nbformat": 4,
 "nbformat_minor": 2
}
