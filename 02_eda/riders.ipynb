{
 "cells": [
  {
   "cell_type": "markdown",
   "metadata": {},
   "source": [
    "# Exploratory Data Analysis - Riders"
   ]
  },
  {
   "cell_type": "code",
   "execution_count": 1,
   "metadata": {},
   "outputs": [],
   "source": [
    "# Import libraries\n",
    "import pandas as pd\n",
    "import psycopg2\n",
    "from psycopg2.extensions import ISOLATION_LEVEL_AUTOCOMMIT\n",
    "import configparser\n",
    "import matplotlib.pyplot as plt"
   ]
  },
  {
   "cell_type": "markdown",
   "metadata": {},
   "source": [
    "### Connect to Postgres"
   ]
  },
  {
   "cell_type": "code",
   "execution_count": 2,
   "metadata": {},
   "outputs": [],
   "source": [
    "parser = configparser.ConfigParser()\n",
    "parser.read('../bikeshareDW_cred.conf')\n",
    "host = parser.get(\"postgres_creds\",\"host\")\n",
    "user = parser.get(\"postgres_creds\",\"user\")\n",
    "password = parser.get(\"postgres_creds\",\"password\")"
   ]
  },
  {
   "cell_type": "code",
   "execution_count": 3,
   "metadata": {},
   "outputs": [
    {
     "name": "stdout",
     "output_type": "stream",
     "text": [
      "Connection established\n"
     ]
    }
   ],
   "source": [
    "sslmode = \"require\"\n",
    "dbname = \"udacityproject\"\n",
    "conn_string = \"host={0} user={1} dbname={2} password={3} sslmode={4}\".format(host, user, dbname, password, sslmode)\n",
    "conn = psycopg2.connect(conn_string)\n",
    "conn.set_isolation_level(ISOLATION_LEVEL_AUTOCOMMIT);\n",
    "print(\"Connection established\")\n",
    "\n",
    "cursor = conn.cursor()"
   ]
  },
  {
   "cell_type": "markdown",
   "metadata": {},
   "source": [
    "### Row Counts"
   ]
  },
  {
   "cell_type": "code",
   "execution_count": 4,
   "metadata": {},
   "outputs": [
    {
     "name": "stdout",
     "output_type": "stream",
     "text": [
      "Row count:  75000\n"
     ]
    }
   ],
   "source": [
    "rowCount = cursor.execute(\"SELECT COUNT(*) FROM rider;\")\n",
    "rowCount = cursor.fetchone()[0]\n",
    "\n",
    "print(\"Row count: \", rowCount)"
   ]
  },
  {
   "cell_type": "markdown",
   "metadata": {},
   "source": [
    "### Look for missing values"
   ]
  },
  {
   "cell_type": "code",
   "execution_count": 5,
   "metadata": {},
   "outputs": [
    {
     "name": "stdout",
     "output_type": "stream",
     "text": [
      "First name null values:  [(0,)]\n",
      "Last name null values:  [(0,)]\n",
      "Address null values:  [(0,)]\n",
      "Birthday null values:  [(0,)]\n",
      "Account start date null values:  [(0,)]\n",
      "Account end date null values:  [(60046,)]\n",
      "Is member null values:  [(0,)]\n"
     ]
    }
   ],
   "source": [
    "firstNulls = cursor.execute(\"SELECT COUNT(*) FROM rider WHERE first IS NULL\")\n",
    "firstNulls = cursor.fetchall()\n",
    "print(\"First name null values: \",firstNulls)\n",
    "\n",
    "lastNulls = cursor.execute(\"SELECT COUNT(*) FROM rider WHERE last IS NULL\")\n",
    "lastNulls = cursor.fetchall()\n",
    "print(\"Last name null values: \",lastNulls)\n",
    "\n",
    "addressNulls = cursor.execute(\"SELECT COUNT(*) FROM rider WHERE address IS NULL\")\n",
    "addressNulls = cursor.fetchall()\n",
    "print(\"Address null values: \",addressNulls)\n",
    "\n",
    "birthdayNulls = cursor.execute(\"SELECT COUNT(*) FROM rider WHERE birthday IS NULL\")\n",
    "birthdayNulls = cursor.fetchall()\n",
    "print(\"Birthday null values: \",birthdayNulls)\n",
    "\n",
    "accountStartNulls = cursor.execute(\"SELECT COUNT(*) FROM rider WHERE account_start_date IS NULL\")\n",
    "accountStartNulls = cursor.fetchall()\n",
    "print(\"Account start date null values: \",accountStartNulls)\n",
    "\n",
    "accountEndNulls = cursor.execute(\"SELECT COUNT(*) FROM rider WHERE account_end_date IS NULL\")\n",
    "accountEndNulls = cursor.fetchall()\n",
    "print(\"Account end date null values: \",accountEndNulls)\n",
    "\n",
    "isMemberNulls = cursor.execute(\"SELECT COUNT(*) FROM rider WHERE is_member IS NULL\")\n",
    "isMemberNulls = cursor.fetchall()\n",
    "print(\"Is member null values: \",isMemberNulls)"
   ]
  },
  {
   "cell_type": "markdown",
   "metadata": {},
   "source": [
    "### Max/Min dates for Start and end account dates"
   ]
  },
  {
   "cell_type": "code",
   "execution_count": 6,
   "metadata": {},
   "outputs": [
    {
     "name": "stdout",
     "output_type": "stream",
     "text": [
      "Max account start date:  2022-02-12\n",
      "Min account start date:  2013-01-31\n",
      "Max account end date:  2022-02-01\n",
      "Min account end date:  2013-03-01\n"
     ]
    }
   ],
   "source": [
    "maxMinStartEndDates = cursor.execute(\"\"\"\n",
    "    SELECT MAX(account_start_date) as max_account_start_date, MIN(account_start_date) as min_account_start_date, \n",
    "    MAX(account_end_date) as max_account_end_date, MIN(account_end_date) as min_account_end_date\n",
    "    FROM rider;\n",
    "    \"\"\")\n",
    "maxMinStartEndDates = cursor.fetchall()\n",
    "\n",
    "for row in maxMinStartEndDates:\n",
    "    print(\"Max account start date: \", row[0])\n",
    "    print(\"Min account start date: \", row[1])\n",
    "    print(\"Max account end date: \", row[2])\n",
    "    print(\"Min account end date: \", row[3])"
   ]
  },
  {
   "cell_type": "code",
   "execution_count": 8,
   "metadata": {},
   "outputs": [
    {
     "ename": "InterfaceError",
     "evalue": "connection already closed",
     "output_type": "error",
     "traceback": [
      "\u001b[1;31m---------------------------------------------------------------------------\u001b[0m",
      "\u001b[1;31mInterfaceError\u001b[0m                            Traceback (most recent call last)",
      "Cell \u001b[1;32mIn[8], line 2\u001b[0m\n\u001b[0;32m      1\u001b[0m \u001b[39m# Disconnect\u001b[39;00m\n\u001b[1;32m----> 2\u001b[0m conn\u001b[39m.\u001b[39;49mcommit()\n\u001b[0;32m      3\u001b[0m cursor\u001b[39m.\u001b[39mclose()\n\u001b[0;32m      4\u001b[0m conn\u001b[39m.\u001b[39mclose()\n",
      "\u001b[1;31mInterfaceError\u001b[0m: connection already closed"
     ]
    }
   ],
   "source": [
    "# Disconnect\n",
    "conn.commit()\n",
    "cursor.close()\n",
    "conn.close()"
   ]
  }
 ],
 "metadata": {
  "kernelspec": {
   "display_name": "bikeshareDW",
   "language": "python",
   "name": "python3"
  },
  "language_info": {
   "codemirror_mode": {
    "name": "ipython",
    "version": 3
   },
   "file_extension": ".py",
   "mimetype": "text/x-python",
   "name": "python",
   "nbconvert_exporter": "python",
   "pygments_lexer": "ipython3",
   "version": "3.9.12"
  },
  "orig_nbformat": 4
 },
 "nbformat": 4,
 "nbformat_minor": 2
}
