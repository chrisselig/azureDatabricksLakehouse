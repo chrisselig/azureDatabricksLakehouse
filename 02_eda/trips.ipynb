{
 "cells": [
  {
   "cell_type": "markdown",
   "metadata": {},
   "source": [
    "# Exploratory Data Analysis - Trips"
   ]
  },
  {
   "cell_type": "code",
   "execution_count": 1,
   "metadata": {},
   "outputs": [],
   "source": [
    "# Import libraries\n",
    "import pandas as pd\n",
    "import psycopg2\n",
    "from psycopg2.extensions import ISOLATION_LEVEL_AUTOCOMMIT\n",
    "import configparser\n",
    "import matplotlib.pyplot as plt"
   ]
  },
  {
   "cell_type": "code",
   "execution_count": 2,
   "metadata": {},
   "outputs": [],
   "source": [
    "parser = configparser.ConfigParser()\n",
    "parser.read('../bikeshareDW_cred.conf')\n",
    "host = parser.get(\"postgres_creds\",\"host\")\n",
    "user = parser.get(\"postgres_creds\",\"user\")\n",
    "password = parser.get(\"postgres_creds\",\"password\")"
   ]
  },
  {
   "cell_type": "code",
   "execution_count": 3,
   "metadata": {},
   "outputs": [
    {
     "name": "stdout",
     "output_type": "stream",
     "text": [
      "Connection established\n"
     ]
    }
   ],
   "source": [
    "sslmode = \"require\"\n",
    "dbname = \"udacityproject\"\n",
    "conn_string = \"host={0} user={1} dbname={2} password={3} sslmode={4}\".format(host, user, dbname, password, sslmode)\n",
    "conn = psycopg2.connect(conn_string)\n",
    "conn.set_isolation_level(ISOLATION_LEVEL_AUTOCOMMIT);\n",
    "print(\"Connection established\")\n",
    "\n",
    "cursor = conn.cursor()"
   ]
  },
  {
   "cell_type": "markdown",
   "metadata": {},
   "source": [
    "### Row counts"
   ]
  },
  {
   "cell_type": "code",
   "execution_count": 4,
   "metadata": {},
   "outputs": [
    {
     "name": "stdout",
     "output_type": "stream",
     "text": [
      "Row Count: 4584921\n"
     ]
    }
   ],
   "source": [
    "rowCounts = cursor.execute(\"SELECT COUNT(*) FROM trip;\")\n",
    "rowCounts = cursor.fetchall()\n",
    "\n",
    "print(\"Row Count: {0}\".format(rowCounts[0][0]))"
   ]
  },
  {
   "cell_type": "markdown",
   "metadata": {},
   "source": [
    "### Look for missing values"
   ]
  },
  {
   "cell_type": "code",
   "execution_count": 5,
   "metadata": {},
   "outputs": [
    {
     "name": "stdout",
     "output_type": "stream",
     "text": [
      "Rideable type null values:  [(0,)]\n",
      "Start time null values:  [(0,)]\n",
      "EndStart time null values:  [(0,)]\n",
      "EndStart time null values:  [(0,)]\n",
      "EndStart time null values:  [(0,)]\n",
      "EndStart time null values:  [(0,)]\n"
     ]
    }
   ],
   "source": [
    "rideNulls = cursor.execute(\"SELECT COUNT(*) FROM TRIP WHERE rideable_type IS NULL\")\n",
    "rideNulls = cursor.fetchall()\n",
    "print(\"Rideable type null values: \",rideNulls)\n",
    "\n",
    "startNulls = cursor.execute(\"SELECT COUNT(*) FROM TRIP WHERE start_at IS NULL\")\n",
    "startNulls = cursor.fetchall()\n",
    "print(\"Start time null values: \",startNulls)\n",
    "\n",
    "endedNulls = cursor.execute(\"SELECT COUNT(*) FROM TRIP WHERE ended_at IS NULL\")\n",
    "endedNulls = cursor.fetchall()\n",
    "print(\"EndStart time null values: \",endedNulls)\n",
    "\n",
    "startStationNulls = cursor.execute(\"SELECT COUNT(*) FROM TRIP WHERE start_station_id IS NULL\")\n",
    "startStationNulls = cursor.fetchall()\n",
    "print(\"EndStart time null values: \",startStationNulls)\n",
    "\n",
    "endStationNulls = cursor.execute(\"SELECT COUNT(*) FROM TRIP WHERE end_station_id IS NULL\")\n",
    "endStationNulls = cursor.fetchall()\n",
    "print(\"EndStart time null values: \",endStationNulls)\n",
    "\n",
    "riderNulls = cursor.execute(\"SELECT COUNT(*) FROM TRIP WHERE rider_id IS NULL\")\n",
    "riderNulls = cursor.fetchall()\n",
    "print(\"EndStart time null values: \",riderNulls)"
   ]
  },
  {
   "cell_type": "markdown",
   "metadata": {},
   "source": [
    "### Top 5 Starting Stations"
   ]
  },
  {
   "cell_type": "code",
   "execution_count": 6,
   "metadata": {},
   "outputs": [
    {
     "name": "stdout",
     "output_type": "stream",
     "text": [
      "('13022', 80344)\n",
      "('LF-005', 46380)\n",
      "('13300', 44672)\n",
      "('13042', 42722)\n",
      "('TA1308000050', 41604)\n",
      "('13008', 40505)\n",
      "('TA1307000039', 39346)\n",
      "('KA1504000135', 35955)\n",
      "('TA1308000001', 35704)\n",
      "('KA1503000043', 32422)\n"
     ]
    }
   ],
   "source": [
    "topStartStations = cursor.execute(\"SELECT start_station_id, COUNT(*) FROM TRIP GROUP BY start_station_id ORDER BY COUNT(*) DESC LIMIT 10;\")\n",
    "topStartStations = cursor.fetchall()\n",
    "\n",
    "for row in topStartStations:\n",
    "    print(row)"
   ]
  },
  {
   "cell_type": "markdown",
   "metadata": {},
   "source": [
    "### Top 10 Ending Stations"
   ]
  },
  {
   "cell_type": "code",
   "execution_count": 8,
   "metadata": {},
   "outputs": [
    {
     "name": "stdout",
     "output_type": "stream",
     "text": [
      "('13022', 81840)\n",
      "('LF-005', 52641)\n",
      "('13042', 43435)\n",
      "('13300', 43151)\n",
      "('TA1308000050', 41947)\n",
      "('13008', 41766)\n",
      "('TA1307000039', 38767)\n",
      "('TA1308000001', 36192)\n",
      "('KA1504000135', 35843)\n",
      "('KA1503000043', 31960)\n"
     ]
    }
   ],
   "source": [
    "topEndStations = cursor.execute(\"SELECT end_station_id, COUNT(*) FROM TRIP GROUP BY end_station_id ORDER BY COUNT(*) DESC LIMIT 10;\")\n",
    "topEndStations = cursor.fetchall()\n",
    "\n",
    "for row in topEndStations:\n",
    "    print(row)"
   ]
  },
  {
   "cell_type": "markdown",
   "metadata": {},
   "source": [
    "### Top 10 Rider ids"
   ]
  },
  {
   "cell_type": "code",
   "execution_count": 9,
   "metadata": {},
   "outputs": [
    {
     "name": "stdout",
     "output_type": "stream",
     "text": [
      "(53044, 1636)\n",
      "(37388, 1584)\n",
      "(21973, 1537)\n",
      "(33748, 1529)\n",
      "(14363, 1480)\n",
      "(61581, 1433)\n",
      "(5211, 1422)\n",
      "(66814, 1398)\n",
      "(67878, 1382)\n",
      "(4193, 1367)\n"
     ]
    }
   ],
   "source": [
    "top10Rider = cursor.execute(\"SELECT rider_id, COUNT(*) FROM TRIP GROUP BY rider_id ORDER BY COUNT(*) DESC LIMIT 10;\")\n",
    "top10Rider = cursor.fetchall()\n",
    "\n",
    "for row in top10Rider:\n",
    "    print(row)"
   ]
  },
  {
   "cell_type": "markdown",
   "metadata": {},
   "source": [
    "### Top 5 Routes"
   ]
  },
  {
   "cell_type": "code",
   "execution_count": 10,
   "metadata": {},
   "outputs": [
    {
     "name": "stdout",
     "output_type": "stream",
     "text": [
      "('13022', '13022', 13037)\n",
      "('13300', '13300', 8571)\n",
      "('13042', '13042', 6665)\n",
      "('13008', '13008', 6446)\n",
      "('13300', '13022', 5984)\n"
     ]
    }
   ],
   "source": [
    "top5Routes = cursor.execute(\"SELECT start_station_id, end_station_id, COUNT(*) FROM TRIP GROUP BY start_station_id, end_station_id ORDER BY COUNT(*) DESC LIMIT 5;\")\n",
    "top5Routes = cursor.fetchall()\n",
    "\n",
    "for row in top5Routes:\n",
    "    print(row)"
   ]
  },
  {
   "cell_type": "code",
   "execution_count": 11,
   "metadata": {},
   "outputs": [],
   "source": [
    "# Disconnect\n",
    "conn.commit()\n",
    "cursor.close()\n",
    "conn.close()"
   ]
  }
 ],
 "metadata": {
  "kernelspec": {
   "display_name": "bikeshareDW",
   "language": "python",
   "name": "python3"
  },
  "language_info": {
   "codemirror_mode": {
    "name": "ipython",
    "version": 3
   },
   "file_extension": ".py",
   "mimetype": "text/x-python",
   "name": "python",
   "nbconvert_exporter": "python",
   "pygments_lexer": "ipython3",
   "version": "3.9.12"
  },
  "orig_nbformat": 4
 },
 "nbformat": 4,
 "nbformat_minor": 2
}
